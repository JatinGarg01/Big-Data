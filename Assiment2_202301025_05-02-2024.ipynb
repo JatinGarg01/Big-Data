{
  "nbformat": 4,
  "nbformat_minor": 0,
  "metadata": {
    "colab": {
      "provenance": [],
      "authorship_tag": "ABX9TyOqPeTNMRDMalgNOpJrh1Ee",
      "include_colab_link": true
    },
    "kernelspec": {
      "name": "python3",
      "display_name": "Python 3"
    },
    "language_info": {
      "name": "python"
    }
  },
  "cells": [
    {
      "cell_type": "markdown",
      "metadata": {
        "id": "view-in-github",
        "colab_type": "text"
      },
      "source": [
        "<a href=\"https://colab.research.google.com/github/JatinGarg01/Big-Data/blob/main/Assiment2_202301025_05-02-2024.ipynb\" target=\"_parent\"><img src=\"https://colab.research.google.com/assets/colab-badge.svg\" alt=\"Open In Colab\"/></a>"
      ]
    },
    {
      "cell_type": "markdown",
      "source": [
        "ReverseArray"
      ],
      "metadata": {
        "id": "uErefJyN5zs2"
      }
    },
    {
      "cell_type": "code",
      "execution_count": null,
      "metadata": {
        "colab": {
          "base_uri": "https://localhost:8080/"
        },
        "id": "m7JPy7vizUjk",
        "outputId": "9d83562b-afb9-4a49-cbbd-c24d02047cf6"
      },
      "outputs": [
        {
          "output_type": "stream",
          "name": "stdout",
          "text": [
            "[6 5 4 3 2 1]\n"
          ]
        }
      ],
      "source": [
        "import numpy as np\n",
        "arr=np.array([1,2,3,4,5,6])\n",
        "res=np.flip(arr)\n",
        "print(res)\n"
      ]
    },
    {
      "cell_type": "markdown",
      "source": [
        "Compare\n"
      ],
      "metadata": {
        "id": "oknUM0jY5_9p"
      }
    },
    {
      "cell_type": "code",
      "source": [
        "arr1=np.array([[1,2],[3,4]])\n",
        "arr2=np.array([[1,2],[3,4]])\n",
        "print(np.array_equal(arr1, arr2))"
      ],
      "metadata": {
        "colab": {
          "base_uri": "https://localhost:8080/"
        },
        "id": "rMHiUJOd6ZTm",
        "outputId": "00e46268-810e-4106-b195-e0a851277cf2"
      },
      "execution_count": null,
      "outputs": [
        {
          "output_type": "stream",
          "name": "stdout",
          "text": [
            "True\n"
          ]
        }
      ]
    },
    {
      "cell_type": "markdown",
      "source": [
        "Frequent Values"
      ],
      "metadata": {
        "id": "iR8S8jgo7-_-"
      }
    },
    {
      "cell_type": "code",
      "source": [
        "import numpy as np\n",
        "\n",
        "\n",
        "x = np.array([1, 2, 3, 4, 5,1,2,1,1,1])\n",
        "y = np.array([1,1,1,2,3,4,2,4,3,3])\n",
        "\n",
        "def find_most_frequent_and_indices(data):\n",
        "    unique_numbers, counts = np.unique(data, return_counts=True)\n",
        "    max_count_index = np.argmax(counts)\n",
        "    most_frequent_number = unique_numbers[max_count_index]\n",
        "    indices = np.where(data == most_frequent_number)[0]\n",
        "    return most_frequent_number, indices\n",
        "\n",
        "\n",
        "most_frequent_number1, indices1 = find_most_frequent_and_indices(x)\n",
        "most_frequent_number2, indices2 = find_most_frequent_and_indices(y)\n",
        "\n",
        "\n",
        "print(f\"Array 1: Most frequent number: {most_frequent_number1}, Indices of occurrences: {indices1}\")\n",
        "print(f\"Array 2: Most frequent number: {most_frequent_number2}, Indices of occurrences: {indices2}\")\n"
      ],
      "metadata": {
        "colab": {
          "base_uri": "https://localhost:8080/"
        },
        "id": "yGhj-lKh7_2o",
        "outputId": "ba152904-ad4a-4441-c9eb-3fece627e3b0"
      },
      "execution_count": 14,
      "outputs": [
        {
          "output_type": "stream",
          "name": "stdout",
          "text": [
            "Array 1: Most frequent number: 1, Indices of occurrences: [0 5 7 8 9]\n",
            "Array 2: Most frequent number: 1, Indices of occurrences: [0 1 2]\n"
          ]
        }
      ]
    },
    {
      "cell_type": "markdown",
      "source": [
        "Sum row and coloumn wise"
      ],
      "metadata": {
        "id": "zxV7wGTXZHo_"
      }
    },
    {
      "cell_type": "code",
      "source": [
        "\n",
        "\n",
        "\n",
        "gfg = np.matrix('[4, 1, 9; 12, 3, 1; 4, 5, 6]')\n",
        "\n",
        "\n",
        "total_sum = np.sum(gfg)\n",
        "\n",
        "\n",
        "row_sum = np.sum(gfg, axis=1)\n",
        "\n",
        "column_sum = np.sum(gfg, axis=0)\n",
        "print(\"Sum of all elements:\", total_sum)\n",
        "print(\"Sum of all elements row-wise:\\n\", row_sum)\n",
        "print(\"Sum of all elements column-wise:\\n\", column_sum)\n"
      ],
      "metadata": {
        "colab": {
          "base_uri": "https://localhost:8080/"
        },
        "id": "WUdc6eWFdOOP",
        "outputId": "8f7a9816-2c6d-4b27-832d-463131d1d3e1"
      },
      "execution_count": 15,
      "outputs": [
        {
          "output_type": "stream",
          "name": "stdout",
          "text": [
            "Sum of all elements: 45\n",
            "Sum of all elements row-wise:\n",
            " [[14]\n",
            " [16]\n",
            " [15]]\n",
            "Sum of all elements column-wise:\n",
            " [[20  9 16]]\n"
          ]
        }
      ]
    }
  ]
}