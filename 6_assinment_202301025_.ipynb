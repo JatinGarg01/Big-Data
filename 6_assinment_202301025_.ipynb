{
  "nbformat": 4,
  "nbformat_minor": 0,
  "metadata": {
    "colab": {
      "provenance": [],
      "authorship_tag": "ABX9TyNpMHQfWZpNDLuD/FpV0KFb",
      "include_colab_link": true
    },
    "kernelspec": {
      "name": "python3",
      "display_name": "Python 3"
    },
    "language_info": {
      "name": "python"
    }
  },
  "cells": [
    {
      "cell_type": "markdown",
      "metadata": {
        "id": "view-in-github",
        "colab_type": "text"
      },
      "source": [
        "<a href=\"https://colab.research.google.com/github/JatinGarg01/Big-Data/blob/main/6_assinment_202301025_.ipynb\" target=\"_parent\"><img src=\"https://colab.research.google.com/assets/colab-badge.svg\" alt=\"Open In Colab\"/></a>"
      ]
    },
    {
      "cell_type": "code",
      "execution_count": 17,
      "metadata": {
        "colab": {
          "base_uri": "https://localhost:8080/",
          "height": 506
        },
        "id": "NnSLicQ4Ounp",
        "outputId": "a9bb920c-352b-4da7-a4f7-44a73aab04fd"
      },
      "outputs": [
        {
          "output_type": "stream",
          "name": "stdout",
          "text": [
            "[(23, 48), (17, 35), (31, 72), (45, 88), (29, 57)]\n"
          ]
        },
        {
          "output_type": "stream",
          "name": "stderr",
          "text": [
            "/usr/local/lib/python3.10/dist-packages/sklearn/cluster/_kmeans.py:870: FutureWarning: The default value of `n_init` will change from 10 to 'auto' in 1.4. Set the value of `n_init` explicitly to suppress the warning\n",
            "  warnings.warn(\n"
          ]
        },
        {
          "output_type": "display_data",
          "data": {
            "text/plain": [
              "<Figure size 640x480 with 1 Axes>"
            ],
            "image/png": "[encoded data removed]"
          },
          "metadata": {}
        }
      ],
      "source": [
        "import matplotlib.pyplot as plt\n",
        "from sklearn.cluster import KMeans\n",
        "import pandas as pd\n",
        "df=pd.read_csv('dataset.csv')\n",
        "data=list(zip(df['Attribute1'],df['Attribute2']))\n",
        "print(data)\n",
        "kmeans=KMeans(n_clusters=2)\n",
        "kmeans.fit(data)\n",
        "plt.scatter(df['Attribute1'],df['Attribute2'],c=kmeans.labels_)\n",
        "plt.show()"
      ]
    },
    {
      "cell_type": "code",
      "source": [],
      "metadata": {
        "id": "dC6YXIAAUUng"
      },
      "execution_count": null,
      "outputs": []
    },
    {
      "cell_type": "markdown",
      "source": [
        "# New Section"
      ],
      "metadata": {
        "id": "ApOJsdH_UcYa"
      }
    },
    {
      "cell_type": "code",
      "source": [],
      "metadata": {
        "id": "mpq9sUG8PyzQ"
      },
      "execution_count": null,
      "outputs": []
    }
  ]
}